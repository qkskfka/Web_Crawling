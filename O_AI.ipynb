{
 "cells": [
  {
   "cell_type": "code",
   "execution_count": 1,
   "id": "adedb625-1cea-4182-a2ba-2be5a7b0fb1d",
   "metadata": {},
   "outputs": [
    {
     "name": "stdout",
     "output_type": "stream",
     "text": [
      "Collecting xmltodict\n",
      "  Downloading xmltodict-0.13.0-py2.py3-none-any.whl.metadata (7.7 kB)\n",
      "Downloading xmltodict-0.13.0-py2.py3-none-any.whl (10.0 kB)\n",
      "Installing collected packages: xmltodict\n",
      "Successfully installed xmltodict-0.13.0\n"
     ]
    }
   ],
   "source": [
    "!pip install xmltodict"
   ]
  },
  {
   "cell_type": "code",
   "execution_count": 2,
   "id": "5b997140-0bcd-40ec-8372-56a83243978d",
   "metadata": {},
   "outputs": [],
   "source": [
    "# 필수 라이브러리 불러오기\n",
    "import requests\n",
    "import json\n",
    "import xmltodict\n",
    "import getpass"
   ]
  },
  {
   "cell_type": "code",
   "execution_count": 3,
   "id": "eeb65af4-b61b-43d2-bef6-01b9834d1396",
   "metadata": {},
   "outputs": [],
   "source": [
    "\n",
    "search_url = \"http://www.kobis.or.kr/kobisopenapi/webservice/rest/movie/searchMovieList.json\"\n",
    "\n",
    "params = {\"key\" : ,\n",
    "         \"curPage\" : 1}"
   ]
  },
  {
   "cell_type": "code",
   "execution_count": 4,
   "id": "40129186-5617-4ec6-86bf-d97726239ea3",
   "metadata": {
    "scrolled": true
   },
   "outputs": [
    {
     "data": {
      "text/plain": [
       "{'movieListResult': {'totCnt': 101962,\n",
       "  'source': '영화진흥위원회',\n",
       "  'movieList': [{'movieCd': '20249883',\n",
       "    'movieNm': '진달래꽃을 좋아합니다',\n",
       "    'movieNmEn': 'Azalea',\n",
       "    'prdtYear': '2024',\n",
       "    'openDt': '',\n",
       "    'typeNm': '장편',\n",
       "    'prdtStatNm': '기타',\n",
       "    'nationAlt': '한국',\n",
       "    'genreAlt': '다큐멘터리',\n",
       "    'repNationNm': '한국',\n",
       "    'repGenreNm': '다큐멘터리',\n",
       "    'directors': [{'peopleNm': '김경자'}],\n",
       "    'companys': []},\n",
       "   {'movieCd': '20233227',\n",
       "    'movieNm': '전지적 독자 시점',\n",
       "    'movieNmEn': '',\n",
       "    'prdtYear': '2023',\n",
       "    'openDt': '',\n",
       "    'typeNm': '장편',\n",
       "    'prdtStatNm': '후반작업',\n",
       "    'nationAlt': '한국',\n",
       "    'genreAlt': '액션,판타지',\n",
       "    'repNationNm': '한국',\n",
       "    'repGenreNm': '액션',\n",
       "    'directors': [{'peopleNm': '김병우'}],\n",
       "    'companys': [{'companyCd': '20100540', 'companyNm': '리얼라이즈픽쳐스(주)'}]},\n",
       "   {'movieCd': '20240804',\n",
       "    'movieNm': '13회 광주독립영화제 - 양주연 감독전',\n",
       "    'movieNmEn': '',\n",
       "    'prdtYear': '2024',\n",
       "    'openDt': '',\n",
       "    'typeNm': '옴니버스',\n",
       "    'prdtStatNm': '기타',\n",
       "    'nationAlt': '한국',\n",
       "    'genreAlt': '다큐멘터리',\n",
       "    'repNationNm': '한국',\n",
       "    'repGenreNm': '다큐멘터리',\n",
       "    'directors': [],\n",
       "    'companys': []},\n",
       "   {'movieCd': '20240791',\n",
       "    'movieNm': '13회 광주독립영화제 - 광주 신진 감독전',\n",
       "    'movieNmEn': '',\n",
       "    'prdtYear': '2024',\n",
       "    'openDt': '',\n",
       "    'typeNm': '옴니버스',\n",
       "    'prdtStatNm': '기타',\n",
       "    'nationAlt': '한국',\n",
       "    'genreAlt': '드라마,다큐멘터리',\n",
       "    'repNationNm': '한국',\n",
       "    'repGenreNm': '드라마',\n",
       "    'directors': [],\n",
       "    'companys': []},\n",
       "   {'movieCd': '20240790',\n",
       "    'movieNm': '13회 광주독립영화제 - 메이드 인 광주 2',\n",
       "    'movieNmEn': '',\n",
       "    'prdtYear': '2024',\n",
       "    'openDt': '',\n",
       "    'typeNm': '옴니버스',\n",
       "    'prdtStatNm': '기타',\n",
       "    'nationAlt': '기타',\n",
       "    'genreAlt': '드라마,다큐멘터리',\n",
       "    'repNationNm': '기타',\n",
       "    'repGenreNm': '드라마',\n",
       "    'directors': [],\n",
       "    'companys': []},\n",
       "   {'movieCd': '20240789',\n",
       "    'movieNm': '13회 광주독립영화제 - 지역교류전',\n",
       "    'movieNmEn': '',\n",
       "    'prdtYear': '2024',\n",
       "    'openDt': '',\n",
       "    'typeNm': '옴니버스',\n",
       "    'prdtStatNm': '기타',\n",
       "    'nationAlt': '한국',\n",
       "    'genreAlt': '드라마',\n",
       "    'repNationNm': '한국',\n",
       "    'repGenreNm': '드라마',\n",
       "    'directors': [],\n",
       "    'companys': []},\n",
       "   {'movieCd': '20240788',\n",
       "    'movieNm': '13회 광주독립영화제 - 메이드 인 광주 : NEXT10',\n",
       "    'movieNmEn': '',\n",
       "    'prdtYear': '2024',\n",
       "    'openDt': '',\n",
       "    'typeNm': '옴니버스',\n",
       "    'prdtStatNm': '기타',\n",
       "    'nationAlt': '한국',\n",
       "    'genreAlt': '드라마',\n",
       "    'repNationNm': '한국',\n",
       "    'repGenreNm': '드라마',\n",
       "    'directors': [],\n",
       "    'companys': []},\n",
       "   {'movieCd': '20240787',\n",
       "    'movieNm': '13회 광주독립영화제 - 5월 이야기',\n",
       "    'movieNmEn': '',\n",
       "    'prdtYear': '2024',\n",
       "    'openDt': '',\n",
       "    'typeNm': '옴니버스',\n",
       "    'prdtStatNm': '기타',\n",
       "    'nationAlt': '한국',\n",
       "    'genreAlt': '드라마,다큐멘터리',\n",
       "    'repNationNm': '한국',\n",
       "    'repGenreNm': '드라마',\n",
       "    'directors': [],\n",
       "    'companys': []},\n",
       "   {'movieCd': '20240786',\n",
       "    'movieNm': '13회 광주독립영화제 - 메이드 인 광주 1',\n",
       "    'movieNmEn': '',\n",
       "    'prdtYear': '2024',\n",
       "    'openDt': '',\n",
       "    'typeNm': '옴니버스',\n",
       "    'prdtStatNm': '기타',\n",
       "    'nationAlt': '한국',\n",
       "    'genreAlt': '드라마',\n",
       "    'repNationNm': '한국',\n",
       "    'repGenreNm': '드라마',\n",
       "    'directors': [],\n",
       "    'companys': []},\n",
       "   {'movieCd': '20248574',\n",
       "    'movieNm': '내 이름',\n",
       "    'movieNmEn': 'My name',\n",
       "    'prdtYear': '2024',\n",
       "    'openDt': '',\n",
       "    'typeNm': '장편',\n",
       "    'prdtStatNm': '기타',\n",
       "    'nationAlt': '한국',\n",
       "    'genreAlt': '드라마',\n",
       "    'repNationNm': '한국',\n",
       "    'repGenreNm': '드라마',\n",
       "    'directors': [{'peopleNm': '송원재'}],\n",
       "    'companys': []}]}}"
      ]
     },
     "execution_count": 4,
     "metadata": {},
     "output_type": "execute_result"
    }
   ],
   "source": [
    "response = requests.get(search_url, params)\n",
    "json.loads(response.text)"
   ]
  },
  {
   "cell_type": "code",
   "execution_count": null,
   "id": "632b5bd4-32dd-434e-8ea3-ae82a8a64791",
   "metadata": {},
   "outputs": [],
   "source": []
  }
 ],
 "metadata": {
  "kernelspec": {
   "display_name": "Python 3 (ipykernel)",
   "language": "python",
   "name": "python3"
  },
  "language_info": {
   "codemirror_mode": {
    "name": "ipython",
    "version": 3
   },
   "file_extension": ".py",
   "mimetype": "text/x-python",
   "name": "python",
   "nbconvert_exporter": "python",
   "pygments_lexer": "ipython3",
   "version": "3.11.9"
  }
 },
 "nbformat": 4,
 "nbformat_minor": 5
}
